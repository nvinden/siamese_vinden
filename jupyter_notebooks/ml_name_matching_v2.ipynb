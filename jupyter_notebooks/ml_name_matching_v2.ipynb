{
  "cells": [
    {
      "cell_type": "code",
      "execution_count": null,
      "id": "342cbba3",
      "metadata": {
        "id": "342cbba3"
      },
      "outputs": [],
      "source": [
        "from collections import defaultdict\n",
        "from itertools import count\n",
        "import matplotlib.pyplot as plt\n",
        "from metaphone import doublemetaphone\n",
        "import pandas as pd\n",
        "from statistics import mean\n",
        "import textdistance\n",
        "import os\n",
        "import numpy as np\n",
        "\n",
        "from sklearn.ensemble import RandomForestClassifier\n",
        "from sklearn.metrics import precision_recall_curve, f1_score, precision_score, recall_score\n",
        "from sklearn.model_selection import cross_val_predict, cross_validate, StratifiedKFold"
      ]
    },
    {
      "cell_type": "markdown",
      "id": "9db0b999",
      "metadata": {
        "id": "9db0b999"
      },
      "source": [
        "# Load Data"
      ]
    },
    {
      "cell_type": "markdown",
      "id": "23bafc7a",
      "metadata": {
        "id": "23bafc7a"
      },
      "source": [
        "Load your folds in the following cell:"
      ]
    },
    {
      "cell_type": "code",
      "execution_count": null,
      "id": "ebbde1d4",
      "metadata": {
        "id": "ebbde1d4"
      },
      "outputs": [],
      "source": [
        "dir_name = \"../results/random_emb25_lay8\"\n",
        "\n",
        "folds = []\n",
        "\n",
        "for i in range(5):\n",
        "  test_csv = os.path.join(dir_name, f\"test_k{i}.csv\")\n",
        "  df = pd.read_csv(test_csv, usecols=[\"name1\", \"name2\", \"label\"])\n",
        "  df = df.astype({\"label\": bool, \"name1\": str, \"name2\": str})\n",
        "  df = df.rename(columns={\"name1\": \"name_a\", \"name2\": \"name_b\"})\n",
        "\n",
        "  folds.append(df)"
      ]
    },
    {
      "cell_type": "markdown",
      "id": "5RLejLDZOqNu",
      "metadata": {
        "id": "5RLejLDZOqNu"
      },
      "source": [
        "Loads data from the 1871/1878 dataset"
      ]
    },
    {
      "cell_type": "code",
      "execution_count": null,
      "id": "aANB_WJIOpbw",
      "metadata": {
        "id": "aANB_WJIOpbw"
      },
      "outputs": [],
      "source": []
    },
    {
      "cell_type": "markdown",
      "id": "6d0ea005",
      "metadata": {
        "id": "6d0ea005"
      },
      "source": [
        "Once your folds are loaded, the output of the following commands should look roughly like this:"
      ]
    },
    {
      "cell_type": "code",
      "execution_count": null,
      "id": "fb7c5f53",
      "metadata": {
        "colab": {
          "base_uri": "https://localhost:8080/"
        },
        "id": "fb7c5f53",
        "outputId": "2c99136f-acff-4200-8dc8-d600f4bd987d"
      },
      "outputs": [
        {
          "data": {
            "text/plain": [
              "5"
            ]
          },
          "execution_count": 92,
          "metadata": {},
          "output_type": "execute_result"
        }
      ],
      "source": [
        "len(folds)"
      ]
    },
    {
      "cell_type": "code",
      "execution_count": null,
      "id": "f6951839",
      "metadata": {
        "colab": {
          "base_uri": "https://localhost:8080/",
          "height": 424
        },
        "id": "f6951839",
        "outputId": "0e110149-d353-4c87-810a-6c5c275f81a8"
      },
      "outputs": [
        {
          "data": {
            "text/html": [
              "<div>\n",
              "<style scoped>\n",
              "    .dataframe tbody tr th:only-of-type {\n",
              "        vertical-align: middle;\n",
              "    }\n",
              "\n",
              "    .dataframe tbody tr th {\n",
              "        vertical-align: top;\n",
              "    }\n",
              "\n",
              "    .dataframe thead th {\n",
              "        text-align: right;\n",
              "    }\n",
              "</style>\n",
              "<table border=\"1\" class=\"dataframe\">\n",
              "  <thead>\n",
              "    <tr style=\"text-align: right;\">\n",
              "      <th></th>\n",
              "      <th>name_a</th>\n",
              "      <th>name_b</th>\n",
              "      <th>label</th>\n",
              "    </tr>\n",
              "  </thead>\n",
              "  <tbody>\n",
              "    <tr>\n",
              "      <th>0</th>\n",
              "      <td>maynes</td>\n",
              "      <td>swearer</td>\n",
              "      <td>False</td>\n",
              "    </tr>\n",
              "    <tr>\n",
              "      <th>1</th>\n",
              "      <td>fander</td>\n",
              "      <td>seimiller</td>\n",
              "      <td>False</td>\n",
              "    </tr>\n",
              "    <tr>\n",
              "      <th>2</th>\n",
              "      <td>buum</td>\n",
              "      <td>breum</td>\n",
              "      <td>True</td>\n",
              "    </tr>\n",
              "    <tr>\n",
              "      <th>3</th>\n",
              "      <td>liebergen</td>\n",
              "      <td>lebergen</td>\n",
              "      <td>True</td>\n",
              "    </tr>\n",
              "    <tr>\n",
              "      <th>4</th>\n",
              "      <td>rancier</td>\n",
              "      <td>ransier</td>\n",
              "      <td>True</td>\n",
              "    </tr>\n",
              "    <tr>\n",
              "      <th>...</th>\n",
              "      <td>...</td>\n",
              "      <td>...</td>\n",
              "      <td>...</td>\n",
              "    </tr>\n",
              "    <tr>\n",
              "      <th>9995</th>\n",
              "      <td>harman</td>\n",
              "      <td>harmon</td>\n",
              "      <td>True</td>\n",
              "    </tr>\n",
              "    <tr>\n",
              "      <th>9996</th>\n",
              "      <td>grinyer</td>\n",
              "      <td>gringer</td>\n",
              "      <td>True</td>\n",
              "    </tr>\n",
              "    <tr>\n",
              "      <th>9997</th>\n",
              "      <td>boatfield</td>\n",
              "      <td>boartfield</td>\n",
              "      <td>True</td>\n",
              "    </tr>\n",
              "    <tr>\n",
              "      <th>9998</th>\n",
              "      <td>shinabargar</td>\n",
              "      <td>shinabarger</td>\n",
              "      <td>True</td>\n",
              "    </tr>\n",
              "    <tr>\n",
              "      <th>9999</th>\n",
              "      <td>groholski</td>\n",
              "      <td>grocholski</td>\n",
              "      <td>True</td>\n",
              "    </tr>\n",
              "  </tbody>\n",
              "</table>\n",
              "<p>10000 rows × 3 columns</p>\n",
              "</div>"
            ],
            "text/plain": [
              "           name_a       name_b  label\n",
              "0          maynes      swearer  False\n",
              "1          fander    seimiller  False\n",
              "2            buum        breum   True\n",
              "3       liebergen     lebergen   True\n",
              "4         rancier      ransier   True\n",
              "...           ...          ...    ...\n",
              "9995       harman       harmon   True\n",
              "9996      grinyer      gringer   True\n",
              "9997    boatfield   boartfield   True\n",
              "9998  shinabargar  shinabarger   True\n",
              "9999    groholski   grocholski   True\n",
              "\n",
              "[10000 rows x 3 columns]"
            ]
          },
          "execution_count": 93,
          "metadata": {},
          "output_type": "execute_result"
        }
      ],
      "source": [
        "folds[0]"
      ]
    },
    {
      "cell_type": "markdown",
      "id": "5915958b",
      "metadata": {
        "id": "5915958b"
      },
      "source": [
        "# Generate Features"
      ]
    },
    {
      "cell_type": "code",
      "execution_count": null,
      "id": "e15e945c",
      "metadata": {
        "id": "e15e945c"
      },
      "outputs": [],
      "source": [
        "def compare_dm1(s1, s2):\n",
        "    return textdistance.levenshtein.normalized_similarity(doublemetaphone(s1)[0],doublemetaphone(s2)[0])\n",
        "\n",
        "def compare_dm2(s1, s2):\n",
        "    return textdistance.levenshtein.normalized_similarity(doublemetaphone(s1)[1],doublemetaphone(s2)[1])"
      ]
    },
    {
      "cell_type": "code",
      "execution_count": null,
      "id": "4a12502d",
      "metadata": {
        "colab": {
          "base_uri": "https://localhost:8080/"
        },
        "id": "4a12502d",
        "outputId": "b2c1c04e-c782-403f-dfc8-0d1927f7fbcf"
      },
      "outputs": [
        {
          "name": "stdout",
          "output_type": "stream",
          "text": [
            "CPU times: user 24.9 s, sys: 928 ms, total: 25.8 s\n",
            "Wall time: 24.5 s\n"
          ]
        }
      ],
      "source": [
        "%%time\n",
        "for pairs in folds:\n",
        "    pairs['levenshtein'] = [textdistance.levenshtein.normalized_similarity(x, y) for x, y in pairs[['name_a', 'name_b']].itertuples(index=False)]\n",
        "    pairs['jaro'] = [textdistance.jaro.normalized_similarity(x, y) for x, y in pairs[['name_a', 'name_b']].itertuples(index=False)]\n",
        "    pairs['jaro_winkler'] = [textdistance.jaro_winkler.normalized_similarity(x, y) for x, y in pairs[['name_a', 'name_b']].itertuples(index=False)]\n",
        "    pairs['jaccard'] = [textdistance.jaccard.normalized_similarity(x, y) for x, y in pairs[['name_a', 'name_b']].itertuples(index=False)]\n",
        "    pairs['sorensen_dice'] = [textdistance.sorensen_dice.normalized_similarity(x, y) for x, y in pairs[['name_a', 'name_b']].itertuples(index=False)]\n",
        "    pairs['dm1'] = [compare_dm1(x, y) for x, y in pairs[['name_a', 'name_b']].itertuples(index=False)]\n",
        "    pairs['dm2'] = [compare_dm2(x, y) for x, y in pairs[['name_a', 'name_b']].itertuples(index=False)]\n",
        "\n",
        "    pairs['vowels_a'] = pairs['name_a'].apply(lambda x: sum(map(x.count, 'aeiou')))\n",
        "    pairs['vowels_b'] = pairs['name_b'].apply(lambda x: sum(map(x.count, 'aeiou')))\n",
        "    pairs['consonants_a'] = pairs['name_a'].str.len() - pairs['vowels_a']\n",
        "    pairs['consonants_b'] = pairs['name_b'].str.len() - pairs['vowels_b']\n",
        "    pairs['vowels'] = (pairs['vowels_a'] - pairs['vowels_b']).abs()\n",
        "    pairs['vowels'] = 1 - (pairs['vowels'] / pairs['vowels'].max())\n",
        "    pairs['consonants'] = (pairs['consonants_a'] - pairs['consonants_b']).abs()\n",
        "    pairs['consonants'] = 1 - (pairs['consonants'] / pairs['consonants'].max())\n",
        "    pairs['characters'] = (pairs['name_a'].str.len() - pairs['name_b'].str.len()).abs()\n",
        "    pairs['characters'] = 1 - (pairs['characters'] / pairs['characters'].max())\n",
        "    pairs = pairs.drop(columns=['vowels_a', 'vowels_b', 'consonants_a', 'consonants_b'])"
      ]
    },
    {
      "cell_type": "markdown",
      "id": "5bbf33c9",
      "metadata": {
        "id": "5bbf33c9"
      },
      "source": [
        "# Classification"
      ]
    },
    {
      "cell_type": "code",
      "execution_count": null,
      "id": "bf5292a5",
      "metadata": {
        "colab": {
          "base_uri": "https://localhost:8080/",
          "height": 637
        },
        "id": "bf5292a5",
        "outputId": "85733dd8-dee5-4691-c1e8-e4abae31c570"
      },
      "outputs": [
        {
          "name": "stdout",
          "output_type": "stream",
          "text": [
            "[False False  True ...  True  True  True]\n"
          ]
        },
        {
          "ename": "NameError",
          "evalue": "ignored",
          "output_type": "error",
          "traceback": [
            "\u001b[0;31m---------------------------------------------------------------------------\u001b[0m",
            "\u001b[0;31mNameError\u001b[0m                                 Traceback (most recent call last)",
            "\u001b[0;32m<ipython-input-98-7264957ea832>\u001b[0m in \u001b[0;36m<module>\u001b[0;34m()\u001b[0m\n\u001b[0;32m----> 1\u001b[0;31m \u001b[0mget_ipython\u001b[0m\u001b[0;34m(\u001b[0m\u001b[0;34m)\u001b[0m\u001b[0;34m.\u001b[0m\u001b[0mrun_cell_magic\u001b[0m\u001b[0;34m(\u001b[0m\u001b[0;34m'time'\u001b[0m\u001b[0;34m,\u001b[0m \u001b[0;34m''\u001b[0m\u001b[0;34m,\u001b[0m \u001b[0;34m\"scores = defaultdict(list)\\ny_prob = []\\n\\nfor test_fold_index in range(len(folds)):\\n    val_fold_index = test_fold_index - 1 if test_fold_index - 1 >= 0 else len(folds) - 1\\n\\n\\n    X_train = pd.DataFrame()\\n    y_train = pd.Series(dtype=bool)\\n    for fold_index in range(len(folds)):\\n        if fold_index != test_fold_index and fold_index != val_fold_index:\\n            X_train = pd.concat([X_train, folds[fold_index].drop(columns=['name_a', 'name_b', 'label'])])\\n            y_train = pd.concat([y_train, folds[fold_index]['label']])\\n    X_test = folds[test_fold_index].drop(columns=['name_a', 'name_b', 'label'])\\n    y_test = folds[test_fold_index]['label']\\n    \\n    clf = RandomForestClassifier(random_state=0)\\n    clf.fit(X_train, y_train)\\n    y_pred = clf.predict(X_test)\\n\\n    print(y_pred)\\n\\n    fdfdfdf\\n\\n    scores['test_precision'].append(precision_score(y_test, y_pred))\\n    scores['test_recall'].append(recall_score(y_test, y_pred))\\n    scores['f1_score'].append(f1_score(y_test, y_pred))\\n\\n    yt = np.array(y_test)\\n    yp = np.array(y_pred)\\n\\n    scores['tp'].append(np.count_nonzero(yt & yp))\\n    scores['tn'].append(np.count_nonzero(np.logical_not(yt) & np.logical_not(yp)))\\n    scores['fp'].append(np.count_nonzero(np.logical_not(yt) & yp))\\n    scores['fn'].append(np.count_nonzer...\n\u001b[0m",
            "\u001b[0;32m/usr/local/lib/python3.7/dist-packages/IPython/core/interactiveshell.py\u001b[0m in \u001b[0;36mrun_cell_magic\u001b[0;34m(self, magic_name, line, cell)\u001b[0m\n\u001b[1;32m   2115\u001b[0m             \u001b[0mmagic_arg_s\u001b[0m \u001b[0;34m=\u001b[0m \u001b[0mself\u001b[0m\u001b[0;34m.\u001b[0m\u001b[0mvar_expand\u001b[0m\u001b[0;34m(\u001b[0m\u001b[0mline\u001b[0m\u001b[0;34m,\u001b[0m \u001b[0mstack_depth\u001b[0m\u001b[0;34m)\u001b[0m\u001b[0;34m\u001b[0m\u001b[0;34m\u001b[0m\u001b[0m\n\u001b[1;32m   2116\u001b[0m             \u001b[0;32mwith\u001b[0m \u001b[0mself\u001b[0m\u001b[0;34m.\u001b[0m\u001b[0mbuiltin_trap\u001b[0m\u001b[0;34m:\u001b[0m\u001b[0;34m\u001b[0m\u001b[0;34m\u001b[0m\u001b[0m\n\u001b[0;32m-> 2117\u001b[0;31m                 \u001b[0mresult\u001b[0m \u001b[0;34m=\u001b[0m \u001b[0mfn\u001b[0m\u001b[0;34m(\u001b[0m\u001b[0mmagic_arg_s\u001b[0m\u001b[0;34m,\u001b[0m \u001b[0mcell\u001b[0m\u001b[0;34m)\u001b[0m\u001b[0;34m\u001b[0m\u001b[0;34m\u001b[0m\u001b[0m\n\u001b[0m\u001b[1;32m   2118\u001b[0m             \u001b[0;32mreturn\u001b[0m \u001b[0mresult\u001b[0m\u001b[0;34m\u001b[0m\u001b[0;34m\u001b[0m\u001b[0m\n\u001b[1;32m   2119\u001b[0m \u001b[0;34m\u001b[0m\u001b[0m\n",
            "\u001b[0;32m<decorator-gen-53>\u001b[0m in \u001b[0;36mtime\u001b[0;34m(self, line, cell, local_ns)\u001b[0m\n",
            "\u001b[0;32m/usr/local/lib/python3.7/dist-packages/IPython/core/magic.py\u001b[0m in \u001b[0;36m<lambda>\u001b[0;34m(f, *a, **k)\u001b[0m\n\u001b[1;32m    186\u001b[0m     \u001b[0;31m# but it's overkill for just that one bit of state.\u001b[0m\u001b[0;34m\u001b[0m\u001b[0;34m\u001b[0m\u001b[0;34m\u001b[0m\u001b[0m\n\u001b[1;32m    187\u001b[0m     \u001b[0;32mdef\u001b[0m \u001b[0mmagic_deco\u001b[0m\u001b[0;34m(\u001b[0m\u001b[0marg\u001b[0m\u001b[0;34m)\u001b[0m\u001b[0;34m:\u001b[0m\u001b[0;34m\u001b[0m\u001b[0;34m\u001b[0m\u001b[0m\n\u001b[0;32m--> 188\u001b[0;31m         \u001b[0mcall\u001b[0m \u001b[0;34m=\u001b[0m \u001b[0;32mlambda\u001b[0m \u001b[0mf\u001b[0m\u001b[0;34m,\u001b[0m \u001b[0;34m*\u001b[0m\u001b[0ma\u001b[0m\u001b[0;34m,\u001b[0m \u001b[0;34m**\u001b[0m\u001b[0mk\u001b[0m\u001b[0;34m:\u001b[0m \u001b[0mf\u001b[0m\u001b[0;34m(\u001b[0m\u001b[0;34m*\u001b[0m\u001b[0ma\u001b[0m\u001b[0;34m,\u001b[0m \u001b[0;34m**\u001b[0m\u001b[0mk\u001b[0m\u001b[0;34m)\u001b[0m\u001b[0;34m\u001b[0m\u001b[0;34m\u001b[0m\u001b[0m\n\u001b[0m\u001b[1;32m    189\u001b[0m \u001b[0;34m\u001b[0m\u001b[0m\n\u001b[1;32m    190\u001b[0m         \u001b[0;32mif\u001b[0m \u001b[0mcallable\u001b[0m\u001b[0;34m(\u001b[0m\u001b[0marg\u001b[0m\u001b[0;34m)\u001b[0m\u001b[0;34m:\u001b[0m\u001b[0;34m\u001b[0m\u001b[0;34m\u001b[0m\u001b[0m\n",
            "\u001b[0;32m/usr/local/lib/python3.7/dist-packages/IPython/core/magics/execution.py\u001b[0m in \u001b[0;36mtime\u001b[0;34m(self, line, cell, local_ns)\u001b[0m\n\u001b[1;32m   1191\u001b[0m         \u001b[0;32melse\u001b[0m\u001b[0;34m:\u001b[0m\u001b[0;34m\u001b[0m\u001b[0;34m\u001b[0m\u001b[0m\n\u001b[1;32m   1192\u001b[0m             \u001b[0mst\u001b[0m \u001b[0;34m=\u001b[0m \u001b[0mclock2\u001b[0m\u001b[0;34m(\u001b[0m\u001b[0;34m)\u001b[0m\u001b[0;34m\u001b[0m\u001b[0;34m\u001b[0m\u001b[0m\n\u001b[0;32m-> 1193\u001b[0;31m             \u001b[0mexec\u001b[0m\u001b[0;34m(\u001b[0m\u001b[0mcode\u001b[0m\u001b[0;34m,\u001b[0m \u001b[0mglob\u001b[0m\u001b[0;34m,\u001b[0m \u001b[0mlocal_ns\u001b[0m\u001b[0;34m)\u001b[0m\u001b[0;34m\u001b[0m\u001b[0;34m\u001b[0m\u001b[0m\n\u001b[0m\u001b[1;32m   1194\u001b[0m             \u001b[0mend\u001b[0m \u001b[0;34m=\u001b[0m \u001b[0mclock2\u001b[0m\u001b[0;34m(\u001b[0m\u001b[0;34m)\u001b[0m\u001b[0;34m\u001b[0m\u001b[0;34m\u001b[0m\u001b[0m\n\u001b[1;32m   1195\u001b[0m             \u001b[0mout\u001b[0m \u001b[0;34m=\u001b[0m \u001b[0;32mNone\u001b[0m\u001b[0;34m\u001b[0m\u001b[0;34m\u001b[0m\u001b[0m\n",
            "\u001b[0;32m<timed exec>\u001b[0m in \u001b[0;36m<module>\u001b[0;34m()\u001b[0m\n",
            "\u001b[0;31mNameError\u001b[0m: name 'fdfdfdf' is not defined"
          ]
        }
      ],
      "source": [
        "%%time\n",
        "scores = defaultdict(list)\n",
        "y_prob = []\n",
        "\n",
        "for test_fold_index in range(len(folds)):\n",
        "    val_fold_index = test_fold_index - 1 if test_fold_index - 1 >= 0 else len(folds) - 1\n",
        "\n",
        "\n",
        "    X_train = pd.DataFrame()\n",
        "    y_train = pd.Series(dtype=bool)\n",
        "    for fold_index in range(len(folds)):\n",
        "        if fold_index != test_fold_index and fold_index != val_fold_index:\n",
        "            X_train = pd.concat([X_train, folds[fold_index].drop(columns=['name_a', 'name_b', 'label'])])\n",
        "            y_train = pd.concat([y_train, folds[fold_index]['label']])\n",
        "    X_test = folds[test_fold_index].drop(columns=['name_a', 'name_b', 'label'])\n",
        "    y_test = folds[test_fold_index]['label']\n",
        "    \n",
        "    clf = RandomForestClassifier(random_state=0)\n",
        "    clf.fit(X_train, y_train)\n",
        "    y_pred = clf.predict(X_test)\n",
        "\n",
        "    scores['test_precision'].append(precision_score(y_test, y_pred))\n",
        "    scores['test_recall'].append(recall_score(y_test, y_pred))\n",
        "    scores['f1_score'].append(f1_score(y_test, y_pred))\n",
        "\n",
        "    yt = np.array(y_test)\n",
        "    yp = np.array(y_pred)\n",
        "\n",
        "    scores['tp'].append(np.count_nonzero(yt & yp))\n",
        "    scores['tn'].append(np.count_nonzero(np.logical_not(yt) & np.logical_not(yp)))\n",
        "    scores['fp'].append(np.count_nonzero(np.logical_not(yt) & yp))\n",
        "    scores['fn'].append(np.count_nonzero(yt & np.logical_not(yp)))\n",
        "\n",
        "    y_prob += [x[1] for x in clf.predict_proba(X_test)]\n",
        "\n",
        "print({k: mean(v) for k, v in scores.items()})"
      ]
    },
    {
      "cell_type": "markdown",
      "id": "4d68c118",
      "metadata": {
        "id": "4d68c118"
      },
      "source": [
        "## Precision Recall Curve"
      ]
    },
    {
      "cell_type": "code",
      "execution_count": null,
      "id": "e1b3f104",
      "metadata": {
        "colab": {
          "base_uri": "https://localhost:8080/",
          "height": 297
        },
        "id": "e1b3f104",
        "outputId": "9ba88324-3370-4cb8-9e84-07f6241c4624"
      },
      "outputs": [
        {
          "data": {
            "text/plain": [
              "[<matplotlib.lines.Line2D at 0x7f7ff626ed90>]"
            ]
          },
          "execution_count": 97,
          "metadata": {},
          "output_type": "execute_result"
        },
        {
          "data": {
            "image/png": "[encoded data removed]",
            "text/plain": [
              "<Figure size 432x288 with 1 Axes>"
            ]
          },
          "metadata": {
            "needs_background": "light"
          },
          "output_type": "display_data"
        }
      ],
      "source": [
        "plt.xlabel('Recall')\n",
        "plt.ylabel('Precision')\n",
        "plt.xlim((-0.05, 1.05))\n",
        "plt.ylim((-0.05, 1.05))\n",
        "precision, recall, _ = precision_recall_curve(pd.concat([fold['label'] for fold in folds]), y_prob)\n",
        "plt.step(recall, precision, where='post')"
      ]
    }
  ],
  "metadata": {
    "colab": {
      "collapsed_sections": [],
      "name": "ml_name_matching_v2.ipynb",
      "provenance": []
    },
    "kernelspec": {
      "display_name": "Python 3 (ipykernel)",
      "language": "python",
      "name": "python3"
    },
    "language_info": {
      "codemirror_mode": {
        "name": "ipython",
        "version": 3
      },
      "file_extension": ".py",
      "mimetype": "text/x-python",
      "name": "python",
      "nbconvert_exporter": "python",
      "pygments_lexer": "ipython3",
      "version": "3.9.6"
    }
  },
  "nbformat": 4,
  "nbformat_minor": 5
}
