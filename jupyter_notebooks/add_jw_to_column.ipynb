{
 "cells": [
  {
   "cell_type": "code",
   "execution_count": 3,
   "metadata": {},
   "outputs": [],
   "source": [
    "import textdistance\n",
    "import pandas as pd\n",
    "\n",
    "csv_name = [\"../results/edit_emb20_lay8/tp_master.csv\", \"../results/edit_emb20_lay8/fn_master.csv\", \"../results/edit_emb20_lay8/tp_master_first.csv\", \"../results/edit_emb20_lay8/fn_master_first.csv\"]\n",
    "\n",
    "for file_name in csv_name:\n",
    "    df = pd.read_csv(file_name)\n",
    "\n",
    "    col = [textdistance.jaro_winkler.normalized_similarity(name_a, name_b) for name_a, name_b in zip(df['name_a'].to_list(), df['name_b'].to_list())]\n",
    "\n",
    "    df['jw'] = col\n",
    "\n",
    "    df.to_csv(file_name)"
   ]
  }
 ],
 "metadata": {
  "interpreter": {
   "hash": "da916d797f95354a64649ce6624e60c5b4fdae02478f80dc3ee76903e7f64fe6"
  },
  "kernelspec": {
   "display_name": "Python 3.9.7 ('siamese')",
   "language": "python",
   "name": "python3"
  },
  "language_info": {
   "codemirror_mode": {
    "name": "ipython",
    "version": 3
   },
   "file_extension": ".py",
   "mimetype": "text/x-python",
   "name": "python",
   "nbconvert_exporter": "python",
   "pygments_lexer": "ipython3",
   "version": "3.9.7"
  },
  "orig_nbformat": 4
 },
 "nbformat": 4,
 "nbformat_minor": 2
}
