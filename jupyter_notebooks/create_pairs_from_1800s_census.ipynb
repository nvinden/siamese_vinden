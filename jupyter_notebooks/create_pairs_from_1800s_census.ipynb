{
 "cells": [
  {
   "cell_type": "code",
   "execution_count": 2,
   "metadata": {},
   "outputs": [],
   "source": [
    "import pandas as pd\n",
    "\n",
    "df = pd.read_csv(\"../data/1800s_name_pairs.csv\")\n",
    "\n",
    "last_names = df[[\"ln_71\", \"ln_81\"]]\n",
    "first_names = df[[\"fn_71\", \"fn_81\"]]\n",
    "\n",
    "last_names = last_names.drop_duplicates()\n",
    "first_names = first_names.drop_duplicates()\n",
    "\n",
    "last_names.replace(\"\", float(\"NaN\"), inplace=True)\n",
    "last_names.dropna(inplace = True)\n",
    "\n",
    "first_names.replace(\"\", float(\"NaN\"), inplace=True)\n",
    "first_names.dropna(inplace = True)\n",
    "\n",
    "last_names.to_csv(\"../data/1800s_last_name_pairs.tsv\", header = False, sep = \"\\t\", index = False)\n",
    "first_names.to_csv(\"../data/1800s_first_name_pairs.tsv\", header = False, sep = \"\\t\", index = False)"
   ]
  },
  {
   "cell_type": "markdown",
   "metadata": {},
   "source": []
  },
  {
   "cell_type": "code",
   "execution_count": 1,
   "metadata": {},
   "outputs": [
    {
     "ename": "NameError",
     "evalue": "name 'pd' is not defined",
     "output_type": "error",
     "traceback": [
      "\u001b[0;31m---------------------------------------------------------------------------\u001b[0m",
      "\u001b[0;31mNameError\u001b[0m                                 Traceback (most recent call last)",
      "\u001b[0;32m/tmp/ipykernel_9979/2606749153.py\u001b[0m in \u001b[0;36m<module>\u001b[0;34m\u001b[0m\n\u001b[1;32m      7\u001b[0m \u001b[0;32mfor\u001b[0m \u001b[0mi\u001b[0m \u001b[0;32min\u001b[0m \u001b[0mrange\u001b[0m\u001b[0;34m(\u001b[0m\u001b[0;36m5\u001b[0m\u001b[0;34m)\u001b[0m\u001b[0;34m:\u001b[0m\u001b[0;34m\u001b[0m\u001b[0;34m\u001b[0m\u001b[0m\n\u001b[1;32m      8\u001b[0m   \u001b[0mtest_csv\u001b[0m \u001b[0;34m=\u001b[0m \u001b[0mos\u001b[0m\u001b[0;34m.\u001b[0m\u001b[0mpath\u001b[0m\u001b[0;34m.\u001b[0m\u001b[0mjoin\u001b[0m\u001b[0;34m(\u001b[0m\u001b[0mdir_name\u001b[0m\u001b[0;34m,\u001b[0m \u001b[0;34mf\"test_k{i}.csv\"\u001b[0m\u001b[0;34m)\u001b[0m\u001b[0;34m\u001b[0m\u001b[0;34m\u001b[0m\u001b[0m\n\u001b[0;32m----> 9\u001b[0;31m   \u001b[0mdf\u001b[0m \u001b[0;34m=\u001b[0m \u001b[0mpd\u001b[0m\u001b[0;34m.\u001b[0m\u001b[0mread_csv\u001b[0m\u001b[0;34m(\u001b[0m\u001b[0mtest_csv\u001b[0m\u001b[0;34m,\u001b[0m \u001b[0musecols\u001b[0m\u001b[0;34m=\u001b[0m\u001b[0;34m[\u001b[0m\u001b[0;34m\"name1\"\u001b[0m\u001b[0;34m,\u001b[0m \u001b[0;34m\"name2\"\u001b[0m\u001b[0;34m,\u001b[0m \u001b[0;34m\"label\"\u001b[0m\u001b[0;34m]\u001b[0m\u001b[0;34m)\u001b[0m\u001b[0;34m\u001b[0m\u001b[0;34m\u001b[0m\u001b[0m\n\u001b[0m\u001b[1;32m     10\u001b[0m   \u001b[0mdf\u001b[0m \u001b[0;34m=\u001b[0m \u001b[0mdf\u001b[0m\u001b[0;34m.\u001b[0m\u001b[0mastype\u001b[0m\u001b[0;34m(\u001b[0m\u001b[0;34m{\u001b[0m\u001b[0;34m\"label\"\u001b[0m\u001b[0;34m:\u001b[0m \u001b[0mbool\u001b[0m\u001b[0;34m,\u001b[0m \u001b[0;34m\"name1\"\u001b[0m\u001b[0;34m:\u001b[0m \u001b[0mstr\u001b[0m\u001b[0;34m,\u001b[0m \u001b[0;34m\"name2\"\u001b[0m\u001b[0;34m:\u001b[0m \u001b[0mstr\u001b[0m\u001b[0;34m}\u001b[0m\u001b[0;34m)\u001b[0m\u001b[0;34m\u001b[0m\u001b[0;34m\u001b[0m\u001b[0m\n\u001b[1;32m     11\u001b[0m   \u001b[0mdf\u001b[0m \u001b[0;34m=\u001b[0m \u001b[0mdf\u001b[0m\u001b[0;34m.\u001b[0m\u001b[0mrename\u001b[0m\u001b[0;34m(\u001b[0m\u001b[0mcolumns\u001b[0m\u001b[0;34m=\u001b[0m\u001b[0;34m{\u001b[0m\u001b[0;34m\"name1\"\u001b[0m\u001b[0;34m:\u001b[0m \u001b[0;34m\"name_a\"\u001b[0m\u001b[0;34m,\u001b[0m \u001b[0;34m\"name2\"\u001b[0m\u001b[0;34m:\u001b[0m \u001b[0;34m\"name_b\"\u001b[0m\u001b[0;34m}\u001b[0m\u001b[0;34m)\u001b[0m\u001b[0;34m\u001b[0m\u001b[0;34m\u001b[0m\u001b[0m\n",
      "\u001b[0;31mNameError\u001b[0m: name 'pd' is not defined"
     ]
    }
   ],
   "source": [
    "#load data\n",
    "\n",
    "dir_name = \"../results/1800s_second_run\"\n",
    "\n",
    "folds = []\n",
    "\n",
    "for i in range(5):\n",
    "  test_csv = os.path.join(dir_name, f\"test_k{i}.csv\")\n",
    "  df = pd.read_csv(test_csv, usecols=[\"name1\", \"name2\", \"label\"])\n",
    "  df = df.astype({\"label\": bool, \"name1\": str, \"name2\": str})\n",
    "  df = df.rename(columns={\"name1\": \"name_a\", \"name2\": \"name_b\"})\n",
    "\n",
    "  folds.append(df)"
   ]
  }
 ],
 "metadata": {
  "interpreter": {
   "hash": "da916d797f95354a64649ce6624e60c5b4fdae02478f80dc3ee76903e7f64fe6"
  },
  "kernelspec": {
   "display_name": "Python 3.9.7 ('siamese')",
   "language": "python",
   "name": "python3"
  },
  "language_info": {
   "codemirror_mode": {
    "name": "ipython",
    "version": 3
   },
   "file_extension": ".py",
   "mimetype": "text/x-python",
   "name": "python",
   "nbconvert_exporter": "python",
   "pygments_lexer": "ipython3",
   "version": "3.9.7"
  },
  "orig_nbformat": 4
 },
 "nbformat": 4,
 "nbformat_minor": 2
}
