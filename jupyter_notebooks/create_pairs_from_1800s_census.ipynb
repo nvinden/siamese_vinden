{
 "cells": [
  {
   "cell_type": "code",
   "execution_count": 2,
   "metadata": {},
   "outputs": [],
   "source": [
    "import pandas as pd\n",
    "\n",
    "df = pd.read_csv(\"../data/1800s_name_pairs.csv\")\n",
    "\n",
    "last_names = df[[\"ln_71\", \"ln_81\"]]\n",
    "first_names = df[[\"fn_71\", \"fn_81\"]]\n",
    "\n",
    "last_names = last_names.drop_duplicates()\n",
    "first_names = first_names.drop_duplicates()\n",
    "\n",
    "last_names.replace(\"\", float(\"NaN\"), inplace=True)\n",
    "last_names.dropna(inplace = True)\n",
    "\n",
    "first_names.replace(\"\", float(\"NaN\"), inplace=True)\n",
    "first_names.dropna(inplace = True)\n",
    "\n",
    "last_names.to_csv(\"../data/1800s_last_name_pairs.tsv\", header = False, sep = \"\\t\", index = False)\n",
    "first_names.to_csv(\"../data/1800s_first_name_pairs.tsv\", header = False, sep = \"\\t\", index = False)\n"
   ]
  },
  {
   "cell_type": "markdown",
   "metadata": {},
   "source": []
  },
  {
   "cell_type": "code",
   "execution_count": null,
   "metadata": {},
   "outputs": [],
   "source": []
  }
 ],
 "metadata": {
  "interpreter": {
   "hash": "da916d797f95354a64649ce6624e60c5b4fdae02478f80dc3ee76903e7f64fe6"
  },
  "kernelspec": {
   "display_name": "Python 3.9.7 ('siamese')",
   "language": "python",
   "name": "python3"
  },
  "language_info": {
   "codemirror_mode": {
    "name": "ipython",
    "version": 3
   },
   "file_extension": ".py",
   "mimetype": "text/x-python",
   "name": "python",
   "nbconvert_exporter": "python",
   "pygments_lexer": "ipython3",
   "version": "3.9.7"
  },
  "orig_nbformat": 4
 },
 "nbformat": 4,
 "nbformat_minor": 2
}
