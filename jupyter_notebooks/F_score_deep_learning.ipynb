{
 "cells": [
  {
   "cell_type": "code",
   "execution_count": null,
   "metadata": {},
   "outputs": [],
   "source": [
    "import os \n",
    "import pandas as pd\n",
    "\n",
    "dir_name = \"../results/1800s_second_run\"\n",
    "\n",
    "folds = []\n",
    "\n",
    "for i in range(5):\n",
    "  test_csv = os.path.join(dir_name, f\"test_k{i}.csv\")\n",
    "  df = pd.read_csv(test_csv, usecols=[\"name1\", \"name2\", \"label\"])\n",
    "  df = df.astype({\"label\": bool, \"name1\": str, \"name2\": str})\n",
    "  df = df.rename(columns={\"name1\": \"name_a\", \"name2\": \"name_b\"})\n",
    "\n",
    "  folds.append(df)"
   ]
  }
 ],
 "metadata": {
  "language_info": {
   "name": "python"
  },
  "orig_nbformat": 4
 },
 "nbformat": 4,
 "nbformat_minor": 2
}
